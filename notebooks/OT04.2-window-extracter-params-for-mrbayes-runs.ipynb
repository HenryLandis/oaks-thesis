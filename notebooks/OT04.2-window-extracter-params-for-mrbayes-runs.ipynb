{
 "cells": [
  {
   "cell_type": "code",
   "execution_count": 1,
   "metadata": {},
   "outputs": [],
   "source": [
    "import ipyrad.analysis as ipa\n",
    "import toyplot\n",
    "import toytree\n",
    "import ipcoal"
   ]
  },
  {
   "cell_type": "markdown",
   "metadata": {},
   "source": [
    "Window extracter parameters are altered to produce a subset of ~200-220 taxa.  The subsampling can then be implemented in mrbayes, with the goal of generating trees with good-looking branch lengths."
   ]
  },
  {
   "cell_type": "code",
   "execution_count": 18,
   "metadata": {},
   "outputs": [
    {
     "data": {
      "text/html": [
       "<div>\n",
       "<style scoped>\n",
       "    .dataframe tbody tr th:only-of-type {\n",
       "        vertical-align: middle;\n",
       "    }\n",
       "\n",
       "    .dataframe tbody tr th {\n",
       "        vertical-align: top;\n",
       "    }\n",
       "\n",
       "    .dataframe thead th {\n",
       "        text-align: right;\n",
       "    }\n",
       "</style>\n",
       "<table border=\"1\" class=\"dataframe\">\n",
       "  <thead>\n",
       "    <tr style=\"text-align: right;\">\n",
       "      <th></th>\n",
       "      <th>scaffold</th>\n",
       "      <th>start</th>\n",
       "      <th>end</th>\n",
       "      <th>sites</th>\n",
       "      <th>snps</th>\n",
       "      <th>missing</th>\n",
       "      <th>samples</th>\n",
       "    </tr>\n",
       "  </thead>\n",
       "  <tbody>\n",
       "    <tr>\n",
       "      <th>prefilter</th>\n",
       "      <td>Qrob_Chr06</td>\n",
       "      <td>0</td>\n",
       "      <td>None</td>\n",
       "      <td>1661653</td>\n",
       "      <td>64087</td>\n",
       "      <td>0.92</td>\n",
       "      <td>261</td>\n",
       "    </tr>\n",
       "    <tr>\n",
       "      <th>postfilter</th>\n",
       "      <td>Qrob_Chr06</td>\n",
       "      <td>0</td>\n",
       "      <td>None</td>\n",
       "      <td>30836</td>\n",
       "      <td>3643</td>\n",
       "      <td>0.05</td>\n",
       "      <td>217</td>\n",
       "    </tr>\n",
       "  </tbody>\n",
       "</table>\n",
       "</div>"
      ],
      "text/plain": [
       "              scaffold  start   end    sites   snps  missing  samples\n",
       "prefilter   Qrob_Chr06      0  None  1661653  64087     0.92      261\n",
       "postfilter  Qrob_Chr06      0  None    30836   3643     0.05      217"
      ]
     },
     "execution_count": 18,
     "metadata": {},
     "output_type": "execute_result"
    }
   ],
   "source": [
    "wex05_pt = ipa.window_extracter(\n",
    "    name = \"pt_scaffold05\",\n",
    "    data = \"/moto/eaton/users/hnl2109/analysis-ipyrad/robur_ref_basic_outfiles/robur_ref_basic.seqs.hdf5\",\n",
    "    workdir = \"/moto/eaton/users/hnl2109/analysis-window_extracter\",\n",
    "    scaffold_idxs = [5],\n",
    "    mincov = 220,\n",
    "    rmincov = 0.9\n",
    ")\n",
    "\n",
    "wex05_pt.stats"
   ]
  },
  {
   "cell_type": "code",
   "execution_count": 19,
   "metadata": {
    "scrolled": true
   },
   "outputs": [
    {
     "name": "stdout",
     "output_type": "stream",
     "text": [
      "Wrote data to /moto/eaton/users/hnl2109/analysis-window_extracter/pt_scaffold05.nex\n"
     ]
    }
   ],
   "source": [
    "# Write to a nexus file for implementation in mrbayes.\n",
    "wex05_pt.run(nexus = True)"
   ]
  },
  {
   "cell_type": "code",
   "execution_count": 49,
   "metadata": {},
   "outputs": [
    {
     "name": "stdout",
     "output_type": "stream",
     "text": [
      "Wrote data to /moto/eaton/users/hnl2109/analysis-window_extracter/pt_scaffold05.phy\n"
     ]
    }
   ],
   "source": [
    "# Write to phylip to run through RAxML.\n",
    "wex05_pt.run(nexus = False)"
   ]
  },
  {
   "cell_type": "code",
   "execution_count": 50,
   "metadata": {},
   "outputs": [
    {
     "data": {
      "text/plain": [
       "'/moto/home/hnl2109/miniconda3/bin/raxmlHPC-PTHREADS-AVX2 -f a -T 12 -m GTRGAMMA -n pt_scaffold05 -w /moto/eaton/users/hnl2109/analysis-raxml -s /moto/eaton/users/hnl2109/analysis-window_extracter/pt_scaffold05.phy -p 54321 -N 100 -x 12345'"
      ]
     },
     "execution_count": 50,
     "metadata": {},
     "output_type": "execute_result"
    }
   ],
   "source": [
    "rax05_pt = ipa.raxml(\n",
    "    name = \"pt_scaffold05\",\n",
    "    data = wex05_pt.outfile,\n",
    "    workdir = \"/moto/eaton/users/hnl2109/analysis-raxml\",\n",
    "    N = 100,\n",
    "    T = 12,\n",
    ")\n",
    "\n",
    "rax05_pt.command"
   ]
  },
  {
   "cell_type": "code",
   "execution_count": 51,
   "metadata": {},
   "outputs": [
    {
     "name": "stdout",
     "output_type": "stream",
     "text": [
      "job pt_scaffold05 finished successfully\n"
     ]
    }
   ],
   "source": [
    "rax05_pt.run()"
   ]
  },
  {
   "cell_type": "code",
   "execution_count": 8,
   "metadata": {
    "scrolled": true
   },
   "outputs": [
    {
     "data": {
      "text/html": [
       "<div>\n",
       "<style scoped>\n",
       "    .dataframe tbody tr th:only-of-type {\n",
       "        vertical-align: middle;\n",
       "    }\n",
       "\n",
       "    .dataframe tbody tr th {\n",
       "        vertical-align: top;\n",
       "    }\n",
       "\n",
       "    .dataframe thead th {\n",
       "        text-align: right;\n",
       "    }\n",
       "</style>\n",
       "<table border=\"1\" class=\"dataframe\">\n",
       "  <thead>\n",
       "    <tr style=\"text-align: right;\">\n",
       "      <th></th>\n",
       "      <th>scaffold</th>\n",
       "      <th>start</th>\n",
       "      <th>end</th>\n",
       "      <th>sites</th>\n",
       "      <th>snps</th>\n",
       "      <th>missing</th>\n",
       "      <th>samples</th>\n",
       "    </tr>\n",
       "  </thead>\n",
       "  <tbody>\n",
       "    <tr>\n",
       "      <th>0</th>\n",
       "      <td>concatenated</td>\n",
       "      <td>0</td>\n",
       "      <td>18176689</td>\n",
       "      <td>18176689</td>\n",
       "      <td>793477</td>\n",
       "      <td>0.919</td>\n",
       "      <td>261</td>\n",
       "    </tr>\n",
       "  </tbody>\n",
       "</table>\n",
       "</div>"
      ],
      "text/plain": [
       "       scaffold  start       end     sites    snps  missing  samples\n",
       "0  concatenated      0  18176689  18176689  793477    0.919      261"
      ]
     },
     "execution_count": 8,
     "metadata": {},
     "output_type": "execute_result"
    }
   ],
   "source": [
    "wex_full = ipa.window_extracter(\n",
    "    name = \"full_scaffold\",\n",
    "    data = \"/moto/eaton/users/hnl2109/analysis-ipyrad/robur_ref_basic_outfiles/robur_ref_basic.seqs.hdf5\",\n",
    "    workdir = \"/moto/eaton/users/hnl2109/analysis-window_extracter\",\n",
    "    scaffold_idxs = [0, 1, 2, 3, 4, 5, 6, 7, 8, 9, 10, 11]\n",
    ")\n",
    "\n",
    "wex_full.stats"
   ]
  },
  {
   "cell_type": "code",
   "execution_count": 35,
   "metadata": {},
   "outputs": [
    {
     "name": "stdout",
     "output_type": "stream",
     "text": [
      "Wrote data to /moto/eaton/users/hnl2109/analysis-window_extracter/full_scaffold.nex\n"
     ]
    }
   ],
   "source": [
    "wex_full.run(nexus = True)"
   ]
  },
  {
   "cell_type": "code",
   "execution_count": 9,
   "metadata": {},
   "outputs": [
    {
     "name": "stdout",
     "output_type": "stream",
     "text": [
      "Wrote data to /moto/eaton/users/hnl2109/analysis-window_extracter/full_scaffold.phy\n"
     ]
    }
   ],
   "source": [
    "wex_full.run(nexus = False)"
   ]
  },
  {
   "cell_type": "code",
   "execution_count": 16,
   "metadata": {},
   "outputs": [
    {
     "data": {
      "text/plain": [
       "'/moto/home/hnl2109/miniconda3/bin/raxmlHPC-PTHREADS-AVX2 -f a -T 12 -m GTRGAMMA -n full_scaffold -w /moto/eaton/users/hnl2109 -s /moto/eaton/users/hnl2109/analysis-window_extracter/full_scaffold.phy -p 54321 -N 100 -x 12345'"
      ]
     },
     "execution_count": 16,
     "metadata": {},
     "output_type": "execute_result"
    }
   ],
   "source": [
    "rax_full = ipa.raxml(\n",
    "    name = \"full_scaffold\",\n",
    "    data = wex_full.outfile,\n",
    "    workdir = \"/moto/eaton/users/hnl2109/analysis-raxml\",\n",
    "    N = 100,\n",
    "    T = 12,\n",
    ")\n",
    "\n",
    "rax_full.command"
   ]
  },
  {
   "cell_type": "code",
   "execution_count": 4,
   "metadata": {},
   "outputs": [],
   "source": [
    "TREE = toytree.tree(\"/moto/eaton/users/hnl2109/analysis-tetrad/robur-ref-basic.tree\")\n",
    "model = ipcoal.Model(TREE, Ne=2e4, nsamples=2, recomb=0)"
   ]
  },
  {
   "cell_type": "code",
   "execution_count": 38,
   "metadata": {},
   "outputs": [
    {
     "name": "stdout",
     "output_type": "stream",
     "text": [
      "brlenspr      clock:uniform       \n",
      "clockratepr   normal(0.01,0.005)  \n",
      "clockvarpr    igr                 \n",
      "igrvarpr      exp(10.0)           \n",
      "nchains       4                   \n",
      "ngen          1000000             \n",
      "nruns         2                   \n",
      "samplefreq    1000                \n",
      "topologypr    uniform             \n",
      "\n"
     ]
    }
   ],
   "source": [
    "# Setup for test under a relaxed clock model.\n",
    "mbt = ipa.mrbayes(\n",
    "    data=\"/moto/eaton/users/hnl2109/analysis-window_extracter/pt_scaffold05.nex\",\n",
    "    name=\"itest-1\",\n",
    "    workdir=\"/moto/eaton/users/hnl2109/analysis-mrbayes/\",\n",
    "    clock_model=2,\n",
    "    ngen=int(1e6),\n",
    "    nruns=2,\n",
    ")\n",
    "\n",
    "print(mb1.params)"
   ]
  },
  {
   "cell_type": "code",
   "execution_count": 39,
   "metadata": {
    "scrolled": false
   },
   "outputs": [
    {
     "name": "stdout",
     "output_type": "stream",
     "text": [
      "job itest-1 finished successfully\n"
     ]
    }
   ],
   "source": [
    "mb1.run(force=True)"
   ]
  },
  {
   "cell_type": "code",
   "execution_count": 13,
   "metadata": {},
   "outputs": [
    {
     "name": "stdout",
     "output_type": "stream",
     "text": [
      "brlenspr      clock:uniform       \n",
      "clockratepr   normal(0.01,0.005)  \n",
      "clockvarpr    igr                 \n",
      "igrvarpr      exp(10.0)           \n",
      "nchains       4                   \n",
      "ngen          1000000             \n",
      "nruns         2                   \n",
      "samplefreq    1000                \n",
      "topologypr    fixed(fixedtree)    \n",
      "\n"
     ]
    }
   ],
   "source": [
    "# Tree constraints.\n",
    "mb2 = ipa.mrbayes(\n",
    "    data=\"/moto/eaton/users/hnl2109/analysis-ipyrad/robur_ref_basic_outfiles/robur_ref_basic.nex\",\n",
    "    name=\"itest-2\",\n",
    "    workdir=\"/moto/eaton/users/hnl2109/analysis-mrbayes/\",\n",
    "    constraints=TREE,\n",
    "    clock_model=2,\n",
    "    ngen=int(1e6),\n",
    "    nruns=2,\n",
    ")\n",
    "\n",
    "print(mb2.params)"
   ]
  },
  {
   "cell_type": "code",
   "execution_count": 14,
   "metadata": {},
   "outputs": [
    {
     "name": "stdout",
     "output_type": "stream",
     "text": [
      "#NEXUS\n",
      "\n",
      "[log block]\n",
      "log start filename=/moto/eaton/users/hnl2109/analysis-mrbayes/itest-2.nex.log replace;\n",
      "\n",
      "[data block]\n",
      "execute /moto/eaton/users/hnl2109/analysis-ipyrad/robur_ref_basic_outfiles/robur_ref_basic.nex;\n",
      "\n",
      "[tree block]\n",
      "begin trees;\n",
      "  tree fixedtree = ((SRR5632571,(SRR5632521,(SRR5632378,(SRR5284330,SRR5632566)))),((SRR5632394,SRR5632524),(((SRR1915561,SRR1915539,SRR1915525),((SRR1915528,SRR1915547,SRR1915542),(SRR1915552,(SRR1915534,(SRR1915549,(SRR1915533,SRR1915548)))))),(SRR5632586,(((SRR5284342,(SRR5284372,SRR5284351)),((SRR5632592,(SRR5284345,((SRR8860721,SRR5632587),(SRR5984320,(SRR5632548,SRR5632357))))),(((reference,SRR8860678),(SRR5632365,(SRR8860589,SRR8860611))),(SRR8860703,(SRR5632599,((SRR8860536,(SRR5632410,(SRR8860656,SRR8860609))),(SRR8860698,((SRR5632407,SRR8860672),((SRR8860650,SRR8860521),(SRR5632542,SRR8860665)))))))))),(((SRR5632344,SRR5632428),(SRR5632377,((SRR5632345,SRR5632411),(SRR5632413,(SRR5632382,SRR5632369))))),((SRR5284355,SRR5632514,SRR5284357),((SRR5284337,SRR5284339),((SRR5632597,(SRR5632616,(SRR5632510,(SRR5632549,(SRR5632516,(SRR5632513,(SRR5632355,(SRR8860635,SRR5284352)))))))),(SRR5632436,(((SRR5632481,SRR5632424),(SRR5632535,SRR5632348)),(((SRR5632434,SRR5632441),(SRR5632537,(SRR5632404,(SRR5632443,(SRR5632358,SRR5632619))))),((SRR5632536,(SRR8860622,SRR5632617)),((SRR8860565,(SRR5632431,(SRR5632403,((SRR5632457,(SRR5632448,SRR5632476)),((SRR5632401,SRR8860749),(SRR8860725,SRR5632452)))))),(SRR8860541,((SRR5632449,(SRR5632446,(SRR5632346,SRR5632416))),((SRR5632393,SRR5632363),((SRR8860593,(SRR5632353,SRR5632438,SRR5632451)),((SRR8860709,SRR8860727),((SRR8860696,SRR8860543),(SRR5632439,SRR5632545)))))))))))))))))))),(((SRR8860615,(SRR5632626,((SRR5632374,SRR8860507),(SRR5632519,SRR8860647,SRR8860731)))),((SRR5632440,SRR5632384),((((SRR5632546,SRR5632462),((SRR5632526,SRR5632589,SRR5632406),(SRR5632425,(SRR5284335,SRR5632496,SRR5632569,SRR5632373)))),((SRR5632383,(SRR5632583,(SRR5632433,(SRR5632579,(SRR5632502,SRR5632560))))),(SRR5632512,((SRR5632466,SRR5632628),(SRR5632380,(SRR5632486,SRR5632563,SRR5632564)))))),(SRR8860568,(SRR5632379,(((SRR5632494,(SRR5632474,(SRR5632493,SRR5632426))),((SRR5632397,SRR5632429),((SRR5632478,(SRR5632381,SRR8860551)),(SRR8860613,(SRR5632390,SRR5632371))))),((SRR5632557,(SRR8860595,SRR5632361)),((SRR5632491,((SRR5632470,SRR5632465),(SRR5632555,SRR5632507))),(SRR5632454,(SRR5632418,((SRR5632556,SRR5632552),((SRR8860691,SRR5632427),(SRR8860558,(SRR8860717,((SRR5632505,SRR8860688,(SRR8860689,SRR8860511)),(SRR5632421,(SRR8860671,(SRR8860571,(SRR8860599,((SRR8860715,SRR8860553),(SRR8860575,SRR8860726))))))))))))))))))))),((SRR5632528,((SRR8860746,(SRR8860743,(SRR5632522,SRR8860745))),(SRR8860744,(SRR5632417,SRR5632562,SRR5984321)))),((((SRR8860642,(SRR5632550,SRR5984304)),(SRR8860544,((SRR8860515,(SRR8860552,SRR8860704)),(SRR8860719,(SRR8860740,(SRR8860654,(SRR8860636,(SRR8860700,(SRR8860694,SRR5632480))))))))),((SRR5984317,(SRR5632385,SRR5984319)),(((SRR8860701,SRR5984303),((SRR8860573,SRR8860624),(SRR8860612,(SRR5984318,SRR8860699,SRR8860673)))),(SRR8860579,(SRR8860556,((SRR8860712,SRR8860557,SRR8860659),(SRR8860525,(SRR8860610,SRR8860607)))))))),(((SRR5984311,SRR5984293),(SRR5984306,((SRR5984292,SRR5984310),(SRR8860681,SRR5984314)))),((SRR8860517,SRR5984297),(((SRR5984289,(SRR5984295,SRR5984279)),(SRR5984305,(SRR5984284,(SRR8860621,(SRR5984281,SRR5984308))))),(SRR5984307,(((SRR5984300,SRR5984296),(SRR5984302,(SRR5984298,SRR5984316))),(SRR5984287,((SRR5984315,SRR5984288),(SRR5984285,((SRR5984291,SRR5984290),(SRR5984280,((SRR5984312,SRR5984283),(SRR8860652,SRR5984294))))))))))))))));\n",
      "end;\n",
      "\n",
      "[mb block]\n",
      "begin mrbayes;\n",
      "  set autoclose=yes nowarn=yes;\n",
      "\n",
      "  lset nst=6 rates=gamma;\n",
      "\n",
      "  prset brlenspr=clock:uniform;\n",
      "  prset clockvarpr=igr;\n",
      "  prset igrvarpr=exp(10.0);\n",
      "  prset clockratepr=normal(0.01,0.005);\n",
      "  prset topologypr=fixed(fixedtree);\n",
      "\n",
      "  \n",
      "\n",
      "  mcmcp ngen=1000000 nrun=2 nchains=4;\n",
      "  mcmcp relburnin=yes burninfrac=0.25;\n",
      "  mcmcp samplefreq=1000;\n",
      "  mcmcp printfreq=10000 diagnfr=5000;\n",
      "  mcmcp filename=/moto/eaton/users/hnl2109/analysis-mrbayes/itest-2.nex;\n",
      "  mcmc;\n",
      "\n",
      "  sump filename=/moto/eaton/users/hnl2109/analysis-mrbayes/itest-2.nex;\n",
      "  sumt filename=/moto/eaton/users/hnl2109/analysis-mrbayes/itest-2.nex contype=allcompat;\n",
      "end;\n",
      "\n",
      "[log block]\n",
      "log stop filename=/moto/eaton/users/hnl2109/analysis-mrbayes/itest-2.nex.log append;\n",
      "\n"
     ]
    }
   ],
   "source": [
    "print(mb2.nexus_string)"
   ]
  },
  {
   "cell_type": "code",
   "execution_count": 16,
   "metadata": {
    "scrolled": true
   },
   "outputs": [
    {
     "ename": "IPyradError",
     "evalue": "\n\n                            MrBayes 3.2.7 x86_64\n\n                      (Bayesian Analysis of Phylogeny)\n\n              Distributed under the GNU General Public License\n\n\n               Type \"help\" or \"help <command>\" for information\n                     on the commands that are available.\n\n                   Type \"about\" for authorship and general\n                       information about the program.\n\n\n\n   Executing file \"/moto/eaton/users/hnl2109/analysis-mrbayes/itest-2.nex\"\n   UNIX line termination\n   Longest line length = 3382\n   Parsing file\n   Expecting NEXUS formatted file\n   Logging screen output to file \"/moto/eaton/users/hnl2109/analysis-mrbayes/itest-2.nex.log\"\n\n   Executing file \"/moto/eaton/users/hnl2109/analysis-ipyrad/robur_ref_basic_outfiles/robur_ref_basic.nex\"...\n\n   UNIX line termination\n   Longest line length = 118\n   Parsing file\n   Expecting NEXUS formatted file\n   Reading data block\n      Allocated taxon set\n      Allocated matrix\n      Defining new matrix with 260 taxa and 23497605 characters\n      Data is Dna\n      Missing data coded as N\n      Gaps coded as -\n      Data matrix is interleaved\n      Taxon   1 -> SRR1915525\n      Taxon   2 -> SRR1915528\n      Taxon   3 -> SRR1915533\n      Taxon   4 -> SRR1915534\n      Taxon   5 -> SRR1915539\n      Taxon   6 -> SRR1915542\n      Taxon   7 -> SRR1915547\n      Taxon   8 -> SRR1915548\n      Taxon   9 -> SRR1915549\n      Taxon  10 -> SRR1915552\n      Taxon  11 -> SRR1915561\n      Taxon  12 -> SRR5284330\n      Taxon  13 -> SRR5284335\n      Taxon  14 -> SRR5284337\n      Taxon  15 -> SRR5284339\n      Taxon  16 -> SRR5284342\n      Taxon  17 -> SRR5284345\n      Taxon  18 -> SRR5284351\n      Taxon  19 -> SRR5284352\n      Taxon  20 -> SRR5284355\n      Taxon  21 -> SRR5284357\n      Taxon  22 -> SRR5284372\n      Taxon  23 -> SRR5632344\n      Taxon  24 -> SRR5632345\n      Taxon  25 -> SRR5632346\n      Taxon  26 -> SRR5632348\n      Taxon  27 -> SRR5632353\n      Taxon  28 -> SRR5632355\n      Taxon  29 -> SRR5632357\n      Taxon  30 -> SRR5632358\n      Taxon  31 -> SRR5632361\n      Taxon  32 -> SRR5632363\n      Taxon  33 -> SRR5632365\n      Taxon  34 -> SRR5632369\n      Taxon  35 -> SRR5632371\n      Taxon  36 -> SRR5632373\n      Taxon  37 -> SRR5632374\n      Taxon  38 -> SRR5632377\n      Taxon  39 -> SRR5632378\n      Taxon  40 -> SRR5632379\n      Taxon  41 -> SRR5632380\n      Taxon  42 -> SRR5632381\n      Taxon  43 -> SRR5632382\n      Taxon  44 -> SRR5632383\n      Taxon  45 -> SRR5632384\n      Taxon  46 -> SRR5632385\n      Taxon  47 -> SRR5632390\n      Taxon  48 -> SRR5632393\n      Taxon  49 -> SRR5632394\n      Taxon  50 -> SRR5632397\n      Taxon  51 -> SRR5632401\n      Taxon  52 -> SRR5632403\n      Taxon  53 -> SRR5632404\n      Taxon  54 -> SRR5632406\n      Taxon  55 -> SRR5632407\n      Taxon  56 -> SRR5632410\n      Taxon  57 -> SRR5632411\n      Taxon  58 -> SRR5632413\n      Taxon  59 -> SRR5632416\n      Taxon  60 -> SRR5632417\n      Taxon  61 -> SRR5632418\n      Taxon  62 -> SRR5632421\n      Taxon  63 -> SRR5632424\n      Taxon  64 -> SRR5632425\n      Taxon  65 -> SRR5632426\n      Taxon  66 -> SRR5632427\n      Taxon  67 -> SRR5632428\n      Taxon  68 -> SRR5632429\n      Taxon  69 -> SRR5632431\n      Taxon  70 -> SRR5632433\n      Taxon  71 -> SRR5632434\n      Taxon  72 -> SRR5632436\n      Taxon  73 -> SRR5632438\n      Taxon  74 -> SRR5632439\n      Taxon  75 -> SRR5632440\n      Taxon  76 -> SRR5632441\n      Taxon  77 -> SRR5632443\n      Taxon  78 -> SRR5632446\n      Taxon  79 -> SRR5632448\n      Taxon  80 -> SRR5632449\n      Taxon  81 -> SRR5632451\n      Taxon  82 -> SRR5632452\n      Taxon  83 -> SRR5632454\n      Taxon  84 -> SRR5632457\n      Taxon  85 -> SRR5632462\n      Taxon  86 -> SRR5632465\n      Taxon  87 -> SRR5632466\n      Taxon  88 -> SRR5632470\n      Taxon  89 -> SRR5632474\n      Taxon  90 -> SRR5632476\n      Taxon  91 -> SRR5632478\n      Taxon  92 -> SRR5632480\n      Taxon  93 -> SRR5632481\n",
     "output_type": "error",
     "traceback": [
      "\u001b[0;31m---------------------------------------------------------------------------\u001b[0m",
      "\u001b[0;31mIPyradError\u001b[0m                               Traceback (most recent call last)",
      "\u001b[0;32m<ipython-input-16-502871bc213d>\u001b[0m in \u001b[0;36m<module>\u001b[0;34m\u001b[0m\n\u001b[0;32m----> 1\u001b[0;31m \u001b[0mmb2\u001b[0m\u001b[0;34m.\u001b[0m\u001b[0mrun\u001b[0m\u001b[0;34m(\u001b[0m\u001b[0mforce\u001b[0m \u001b[0;34m=\u001b[0m \u001b[0;32mTrue\u001b[0m\u001b[0;34m)\u001b[0m\u001b[0;34m\u001b[0m\u001b[0;34m\u001b[0m\u001b[0m\n\u001b[0m",
      "\u001b[0;32m~/ipyrad/ipyrad/analysis/mrbayes.py\u001b[0m in \u001b[0;36mrun\u001b[0;34m(self, ipyclient, quiet, force, block)\u001b[0m\n\u001b[1;32m    395\u001b[0m         \u001b[0;31m# submit it\u001b[0m\u001b[0;34m\u001b[0m\u001b[0;34m\u001b[0m\u001b[0;34m\u001b[0m\u001b[0m\n\u001b[1;32m    396\u001b[0m         \u001b[0;32mif\u001b[0m \u001b[0;32mnot\u001b[0m \u001b[0mipyclient\u001b[0m\u001b[0;34m:\u001b[0m\u001b[0;34m\u001b[0m\u001b[0;34m\u001b[0m\u001b[0m\n\u001b[0;32m--> 397\u001b[0;31m             \u001b[0mself\u001b[0m\u001b[0;34m.\u001b[0m\u001b[0mstdout\u001b[0m \u001b[0;34m=\u001b[0m \u001b[0m_call_mb\u001b[0m\u001b[0;34m(\u001b[0m\u001b[0;34m[\u001b[0m\u001b[0mself\u001b[0m\u001b[0;34m.\u001b[0m\u001b[0mbinary\u001b[0m\u001b[0;34m,\u001b[0m \u001b[0mself\u001b[0m\u001b[0;34m.\u001b[0m\u001b[0mnexus\u001b[0m\u001b[0;34m]\u001b[0m\u001b[0;34m)\u001b[0m\u001b[0;34m\u001b[0m\u001b[0;34m\u001b[0m\u001b[0m\n\u001b[0m\u001b[1;32m    398\u001b[0m \u001b[0;34m\u001b[0m\u001b[0m\n\u001b[1;32m    399\u001b[0m         \u001b[0;32melse\u001b[0m\u001b[0;34m:\u001b[0m\u001b[0;34m\u001b[0m\u001b[0;34m\u001b[0m\u001b[0m\n",
      "\u001b[0;32m~/ipyrad/ipyrad/analysis/mrbayes.py\u001b[0m in \u001b[0;36m_call_mb\u001b[0;34m(command_list)\u001b[0m\n\u001b[1;32m    530\u001b[0m     \u001b[0mcomm\u001b[0m \u001b[0;34m=\u001b[0m \u001b[0mproc\u001b[0m\u001b[0;34m.\u001b[0m\u001b[0mcommunicate\u001b[0m\u001b[0;34m(\u001b[0m\u001b[0;34m)\u001b[0m\u001b[0;34m\u001b[0m\u001b[0;34m\u001b[0m\u001b[0m\n\u001b[1;32m    531\u001b[0m     \u001b[0;32mif\u001b[0m \u001b[0mproc\u001b[0m\u001b[0;34m.\u001b[0m\u001b[0mreturncode\u001b[0m\u001b[0;34m:\u001b[0m\u001b[0;34m\u001b[0m\u001b[0;34m\u001b[0m\u001b[0m\n\u001b[0;32m--> 532\u001b[0;31m         \u001b[0;32mraise\u001b[0m \u001b[0mIPyradError\u001b[0m\u001b[0;34m(\u001b[0m\u001b[0mcomm\u001b[0m\u001b[0;34m[\u001b[0m\u001b[0;36m0\u001b[0m\u001b[0;34m]\u001b[0m\u001b[0;34m.\u001b[0m\u001b[0mdecode\u001b[0m\u001b[0;34m(\u001b[0m\u001b[0;34m)\u001b[0m\u001b[0;34m)\u001b[0m\u001b[0;34m\u001b[0m\u001b[0;34m\u001b[0m\u001b[0m\n\u001b[0m\u001b[1;32m    533\u001b[0m     \u001b[0;32mreturn\u001b[0m \u001b[0mcomm\u001b[0m\u001b[0;34m[\u001b[0m\u001b[0;36m0\u001b[0m\u001b[0;34m]\u001b[0m\u001b[0;34m.\u001b[0m\u001b[0mdecode\u001b[0m\u001b[0;34m(\u001b[0m\u001b[0;34m)\u001b[0m\u001b[0;34m\u001b[0m\u001b[0;34m\u001b[0m\u001b[0m\n",
      "\u001b[0;31mIPyradError\u001b[0m: \n\n                            MrBayes 3.2.7 x86_64\n\n                      (Bayesian Analysis of Phylogeny)\n\n              Distributed under the GNU General Public License\n\n\n               Type \"help\" or \"help <command>\" for information\n                     on the commands that are available.\n\n                   Type \"about\" for authorship and general\n                       information about the program.\n\n\n\n   Executing file \"/moto/eaton/users/hnl2109/analysis-mrbayes/itest-2.nex\"\n   UNIX line termination\n   Longest line length = 3382\n   Parsing file\n   Expecting NEXUS formatted file\n   Logging screen output to file \"/moto/eaton/users/hnl2109/analysis-mrbayes/itest-2.nex.log\"\n\n   Executing file \"/moto/eaton/users/hnl2109/analysis-ipyrad/robur_ref_basic_outfiles/robur_ref_basic.nex\"...\n\n   UNIX line termination\n   Longest line length = 118\n   Parsing file\n   Expecting NEXUS formatted file\n   Reading data block\n      Allocated taxon set\n      Allocated matrix\n      Defining new matrix with 260 taxa and 23497605 characters\n      Data is Dna\n      Missing data coded as N\n      Gaps coded as -\n      Data matrix is interleaved\n      Taxon   1 -> SRR1915525\n      Taxon   2 -> SRR1915528\n      Taxon   3 -> SRR1915533\n      Taxon   4 -> SRR1915534\n      Taxon   5 -> SRR1915539\n      Taxon   6 -> SRR1915542\n      Taxon   7 -> SRR1915547\n      Taxon   8 -> SRR1915548\n      Taxon   9 -> SRR1915549\n      Taxon  10 -> SRR1915552\n      Taxon  11 -> SRR1915561\n      Taxon  12 -> SRR5284330\n      Taxon  13 -> SRR5284335\n      Taxon  14 -> SRR5284337\n      Taxon  15 -> SRR5284339\n      Taxon  16 -> SRR5284342\n      Taxon  17 -> SRR5284345\n      Taxon  18 -> SRR5284351\n      Taxon  19 -> SRR5284352\n      Taxon  20 -> SRR5284355\n      Taxon  21 -> SRR5284357\n      Taxon  22 -> SRR5284372\n      Taxon  23 -> SRR5632344\n      Taxon  24 -> SRR5632345\n      Taxon  25 -> SRR5632346\n      Taxon  26 -> SRR5632348\n      Taxon  27 -> SRR5632353\n      Taxon  28 -> SRR5632355\n      Taxon  29 -> SRR5632357\n      Taxon  30 -> SRR5632358\n      Taxon  31 -> SRR5632361\n      Taxon  32 -> SRR5632363\n      Taxon  33 -> SRR5632365\n      Taxon  34 -> SRR5632369\n      Taxon  35 -> SRR5632371\n      Taxon  36 -> SRR5632373\n      Taxon  37 -> SRR5632374\n      Taxon  38 -> SRR5632377\n      Taxon  39 -> SRR5632378\n      Taxon  40 -> SRR5632379\n      Taxon  41 -> SRR5632380\n      Taxon  42 -> SRR5632381\n      Taxon  43 -> SRR5632382\n      Taxon  44 -> SRR5632383\n      Taxon  45 -> SRR5632384\n      Taxon  46 -> SRR5632385\n      Taxon  47 -> SRR5632390\n      Taxon  48 -> SRR5632393\n      Taxon  49 -> SRR5632394\n      Taxon  50 -> SRR5632397\n      Taxon  51 -> SRR5632401\n      Taxon  52 -> SRR5632403\n      Taxon  53 -> SRR5632404\n      Taxon  54 -> SRR5632406\n      Taxon  55 -> SRR5632407\n      Taxon  56 -> SRR5632410\n      Taxon  57 -> SRR5632411\n      Taxon  58 -> SRR5632413\n      Taxon  59 -> SRR5632416\n      Taxon  60 -> SRR5632417\n      Taxon  61 -> SRR5632418\n      Taxon  62 -> SRR5632421\n      Taxon  63 -> SRR5632424\n      Taxon  64 -> SRR5632425\n      Taxon  65 -> SRR5632426\n      Taxon  66 -> SRR5632427\n      Taxon  67 -> SRR5632428\n      Taxon  68 -> SRR5632429\n      Taxon  69 -> SRR5632431\n      Taxon  70 -> SRR5632433\n      Taxon  71 -> SRR5632434\n      Taxon  72 -> SRR5632436\n      Taxon  73 -> SRR5632438\n      Taxon  74 -> SRR5632439\n      Taxon  75 -> SRR5632440\n      Taxon  76 -> SRR5632441\n      Taxon  77 -> SRR5632443\n      Taxon  78 -> SRR5632446\n      Taxon  79 -> SRR5632448\n      Taxon  80 -> SRR5632449\n      Taxon  81 -> SRR5632451\n      Taxon  82 -> SRR5632452\n      Taxon  83 -> SRR5632454\n      Taxon  84 -> SRR5632457\n      Taxon  85 -> SRR5632462\n      Taxon  86 -> SRR5632465\n      Taxon  87 -> SRR5632466\n      Taxon  88 -> SRR5632470\n      Taxon  89 -> SRR5632474\n      Taxon  90 -> SRR5632476\n      Taxon  91 -> SRR5632478\n      Taxon  92 -> SRR5632480\n      Taxon  93 -> SRR5632481\n"
     ]
    }
   ],
   "source": [
    "mb2.run(force = True)"
   ]
  }
 ],
 "metadata": {
  "kernelspec": {
   "display_name": "Python 3",
   "language": "python",
   "name": "python3"
  },
  "language_info": {
   "codemirror_mode": {
    "name": "ipython",
    "version": 3
   },
   "file_extension": ".py",
   "mimetype": "text/x-python",
   "name": "python",
   "nbconvert_exporter": "python",
   "pygments_lexer": "ipython3",
   "version": "3.7.6"
  }
 },
 "nbformat": 4,
 "nbformat_minor": 4
}
