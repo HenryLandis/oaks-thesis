{
 "cells": [
  {
   "cell_type": "code",
   "execution_count": 20,
   "metadata": {},
   "outputs": [],
   "source": [
    "import ipyrad.analysis as ipa\n",
    "import toyplot\n",
    "import toytree\n",
    "import ipcoal"
   ]
  },
  {
   "cell_type": "markdown",
   "metadata": {},
   "source": [
    "Window extracter parameters are altered to produce a subset of ~200-220 taxa.  The subsampling can then be implemented in mrbayes, with the goal of generating trees with good-looking branch lengths."
   ]
  },
  {
   "cell_type": "code",
   "execution_count": 18,
   "metadata": {},
   "outputs": [
    {
     "data": {
      "text/html": [
       "<div>\n",
       "<style scoped>\n",
       "    .dataframe tbody tr th:only-of-type {\n",
       "        vertical-align: middle;\n",
       "    }\n",
       "\n",
       "    .dataframe tbody tr th {\n",
       "        vertical-align: top;\n",
       "    }\n",
       "\n",
       "    .dataframe thead th {\n",
       "        text-align: right;\n",
       "    }\n",
       "</style>\n",
       "<table border=\"1\" class=\"dataframe\">\n",
       "  <thead>\n",
       "    <tr style=\"text-align: right;\">\n",
       "      <th></th>\n",
       "      <th>scaffold</th>\n",
       "      <th>start</th>\n",
       "      <th>end</th>\n",
       "      <th>sites</th>\n",
       "      <th>snps</th>\n",
       "      <th>missing</th>\n",
       "      <th>samples</th>\n",
       "    </tr>\n",
       "  </thead>\n",
       "  <tbody>\n",
       "    <tr>\n",
       "      <th>prefilter</th>\n",
       "      <td>Qrob_Chr06</td>\n",
       "      <td>0</td>\n",
       "      <td>None</td>\n",
       "      <td>1661653</td>\n",
       "      <td>64087</td>\n",
       "      <td>0.92</td>\n",
       "      <td>261</td>\n",
       "    </tr>\n",
       "    <tr>\n",
       "      <th>postfilter</th>\n",
       "      <td>Qrob_Chr06</td>\n",
       "      <td>0</td>\n",
       "      <td>None</td>\n",
       "      <td>30836</td>\n",
       "      <td>3643</td>\n",
       "      <td>0.05</td>\n",
       "      <td>217</td>\n",
       "    </tr>\n",
       "  </tbody>\n",
       "</table>\n",
       "</div>"
      ],
      "text/plain": [
       "              scaffold  start   end    sites   snps  missing  samples\n",
       "prefilter   Qrob_Chr06      0  None  1661653  64087     0.92      261\n",
       "postfilter  Qrob_Chr06      0  None    30836   3643     0.05      217"
      ]
     },
     "execution_count": 18,
     "metadata": {},
     "output_type": "execute_result"
    }
   ],
   "source": [
    "wex05_pt = ipa.window_extracter(\n",
    "    name = \"pt_scaffold05\",\n",
    "    data = \"/moto/eaton/users/hnl2109/analysis-ipyrad/robur_ref_basic_outfiles/robur_ref_basic.seqs.hdf5\",\n",
    "    workdir = \"/moto/eaton/users/hnl2109/analysis-window_extracter\",\n",
    "    scaffold_idxs = [5],\n",
    "    mincov = 220,\n",
    "    rmincov = 0.9\n",
    ")\n",
    "\n",
    "wex05_pt.stats"
   ]
  },
  {
   "cell_type": "code",
   "execution_count": 19,
   "metadata": {
    "scrolled": true
   },
   "outputs": [
    {
     "name": "stdout",
     "output_type": "stream",
     "text": [
      "Wrote data to /moto/eaton/users/hnl2109/analysis-window_extracter/pt_scaffold05.nex\n"
     ]
    }
   ],
   "source": [
    "# Write to a nexus file for implementation in mrbayes.\n",
    "wex05_pt.run(nexus = True)"
   ]
  },
  {
   "cell_type": "code",
   "execution_count": 49,
   "metadata": {},
   "outputs": [
    {
     "name": "stdout",
     "output_type": "stream",
     "text": [
      "Wrote data to /moto/eaton/users/hnl2109/analysis-window_extracter/pt_scaffold05.phy\n"
     ]
    }
   ],
   "source": [
    "# Write to phylip to run through RAxML.  This is an attempt to make a constraint tree that matches the subsampling.\n",
    "wex05_pt.run(nexus = False)"
   ]
  },
  {
   "cell_type": "code",
   "execution_count": 50,
   "metadata": {},
   "outputs": [
    {
     "data": {
      "text/plain": [
       "'/moto/home/hnl2109/miniconda3/bin/raxmlHPC-PTHREADS-AVX2 -f a -T 12 -m GTRGAMMA -n pt_scaffold05 -w /moto/eaton/users/hnl2109/analysis-raxml -s /moto/eaton/users/hnl2109/analysis-window_extracter/pt_scaffold05.phy -p 54321 -N 100 -x 12345'"
      ]
     },
     "execution_count": 50,
     "metadata": {},
     "output_type": "execute_result"
    }
   ],
   "source": [
    "rax05_pt = ipa.raxml(\n",
    "    name = \"pt_scaffold05\",\n",
    "    data = wex05_pt.outfile,\n",
    "    workdir = \"/moto/eaton/users/hnl2109/analysis-raxml\",\n",
    "    N = 100,\n",
    "    T = 12,\n",
    ")\n",
    "\n",
    "rax05_pt.command"
   ]
  },
  {
   "cell_type": "code",
   "execution_count": 51,
   "metadata": {},
   "outputs": [
    {
     "name": "stdout",
     "output_type": "stream",
     "text": [
      "job pt_scaffold05 finished successfully\n"
     ]
    }
   ],
   "source": [
    "rax05_pt.run()"
   ]
  },
  {
   "cell_type": "code",
   "execution_count": 33,
   "metadata": {
    "scrolled": true
   },
   "outputs": [
    {
     "data": {
      "text/html": [
       "<div>\n",
       "<style scoped>\n",
       "    .dataframe tbody tr th:only-of-type {\n",
       "        vertical-align: middle;\n",
       "    }\n",
       "\n",
       "    .dataframe tbody tr th {\n",
       "        vertical-align: top;\n",
       "    }\n",
       "\n",
       "    .dataframe thead th {\n",
       "        text-align: right;\n",
       "    }\n",
       "</style>\n",
       "<table border=\"1\" class=\"dataframe\">\n",
       "  <thead>\n",
       "    <tr style=\"text-align: right;\">\n",
       "      <th></th>\n",
       "      <th>scaffold</th>\n",
       "      <th>start</th>\n",
       "      <th>end</th>\n",
       "      <th>sites</th>\n",
       "      <th>snps</th>\n",
       "      <th>missing</th>\n",
       "      <th>samples</th>\n",
       "    </tr>\n",
       "  </thead>\n",
       "  <tbody>\n",
       "    <tr>\n",
       "      <th>0</th>\n",
       "      <td>concatenated</td>\n",
       "      <td>0</td>\n",
       "      <td>18176689</td>\n",
       "      <td>18176689</td>\n",
       "      <td>793477</td>\n",
       "      <td>0.919</td>\n",
       "      <td>261</td>\n",
       "    </tr>\n",
       "  </tbody>\n",
       "</table>\n",
       "</div>"
      ],
      "text/plain": [
       "       scaffold  start       end     sites    snps  missing  samples\n",
       "0  concatenated      0  18176689  18176689  793477    0.919      261"
      ]
     },
     "execution_count": 33,
     "metadata": {},
     "output_type": "execute_result"
    }
   ],
   "source": [
    "wex_full = ipa.window_extracter(\n",
    "    name = \"full_scaffold\",\n",
    "    data = \"/moto/eaton/users/hnl2109/analysis-ipyrad/robur_ref_basic_outfiles/robur_ref_basic.seqs.hdf5\",\n",
    "    workdir = \"/moto/eaton/users/hnl2109/analysis-window_extracter\",\n",
    "    scaffold_idxs = [0, 1, 2, 3, 4, 5, 6, 7, 8, 9, 10, 11]\n",
    ")\n",
    "\n",
    "wex_full.stats"
   ]
  },
  {
   "cell_type": "code",
   "execution_count": 35,
   "metadata": {},
   "outputs": [
    {
     "name": "stdout",
     "output_type": "stream",
     "text": [
      "Wrote data to /moto/eaton/users/hnl2109/analysis-window_extracter/full_scaffold.nex\n"
     ]
    }
   ],
   "source": [
    "wex_full.run(nexus = True)"
   ]
  },
  {
   "cell_type": "code",
   "execution_count": 102,
   "metadata": {},
   "outputs": [],
   "source": [
    "TREE = toytree.tree(\"/moto/eaton/users/hnl2109/analysis-raxml/RAxML_bipartitions.pt_scaffold05\")\n",
    "model = ipcoal.Model(TREE, Ne=2e4, nsamples=2, recomb=0)"
   ]
  },
  {
   "cell_type": "code",
   "execution_count": 38,
   "metadata": {},
   "outputs": [
    {
     "name": "stdout",
     "output_type": "stream",
     "text": [
      "brlenspr      clock:uniform       \n",
      "clockratepr   normal(0.01,0.005)  \n",
      "clockvarpr    igr                 \n",
      "igrvarpr      exp(10.0)           \n",
      "nchains       4                   \n",
      "ngen          1000000             \n",
      "nruns         2                   \n",
      "samplefreq    1000                \n",
      "topologypr    uniform             \n",
      "\n"
     ]
    }
   ],
   "source": [
    "# Setup for test under a relaxed clock model.\n",
    "mbt = ipa.mrbayes(\n",
    "    data=\"/moto/eaton/users/hnl2109/analysis-window_extracter/pt_scaffold05.nex\",\n",
    "    name=\"mbtest-t\",\n",
    "    workdir=\"/moto/eaton/users/hnl2109/analysis-mrbayes/\",\n",
    "    constraints=TREE,\n",
    "    clock_model=2,\n",
    "    ngen=int(1e6),\n",
    "    nruns=2,\n",
    ")\n",
    "\n",
    "print(mb1.params)"
   ]
  },
  {
   "cell_type": "code",
   "execution_count": 39,
   "metadata": {
    "scrolled": false
   },
   "outputs": [
    {
     "name": "stdout",
     "output_type": "stream",
     "text": [
      "job itest-1 finished successfully\n"
     ]
    }
   ],
   "source": [
    "mb1.run(force=True)"
   ]
  },
  {
   "cell_type": "code",
   "execution_count": 87,
   "metadata": {},
   "outputs": [
    {
     "name": "stdout",
     "output_type": "stream",
     "text": [
      "brlenspr      clock:uniform       \n",
      "clockratepr   normal(0.01,0.005)  \n",
      "clockvarpr    igr                 \n",
      "igrvarpr      exp(10.0)           \n",
      "nchains       4                   \n",
      "ngen          1000000             \n",
      "nruns         2                   \n",
      "samplefreq    1000                \n",
      "topologypr    fixed(fixedtree)    \n",
      "\n"
     ]
    }
   ],
   "source": [
    "# Same nexus file, but with a constraining tree, generated from a RAxML run on a phylip file from the same subsample.\n",
    "mb2 = ipa.mrbayes(\n",
    "    data=\"/moto/eaton/users/hnl2109/analysis-window_extracter/pt_scaffold05.nex\",\n",
    "    name=\"itest-2\",\n",
    "    workdir=\"/moto/eaton/users/hnl2109/analysis-mrbayes/\",\n",
    "    constraints=TREE,\n",
    "    clock_model=2,\n",
    "    ngen=int(1e6),\n",
    "    nruns=2,\n",
    ")\n",
    "\n",
    "print(mb2.params)"
   ]
  },
  {
   "cell_type": "code",
   "execution_count": 83,
   "metadata": {},
   "outputs": [
    {
     "name": "stdout",
     "output_type": "stream",
     "text": [
      "#NEXUS\n",
      "\n",
      "[log block]\n",
      "log start filename=/moto/eaton/users/hnl2109/analysis-mrbayes/itest-2.nex.log replace;\n",
      "\n",
      "[data block]\n",
      "execute /moto/eaton/users/hnl2109/analysis-window_extracter/pt_scaffold05.nex;\n",
      "\n",
      "[tree block]\n",
      "begin trees;\n",
      "  tree fixedtree = (reference,SRR8860678,((SRR8860611,(SRR5632365,SRR8860589)),((SRR5632407,(((SRR8860650,SRR5632542),(SRR8860536,(SRR8860665,SRR8860521))),((SRR8860698,SRR5632599),(SRR8860703,(SRR8860656,(SRR5632410,SRR8860609)))))),((SRR5284345,(SRR5632587,(SRR5632592,((SRR5632548,SRR5632357),(SRR8860721,SRR5984320))))),((SRR5632586,(SRR5284342,(SRR5284351,SRR5284372))),(((SRR5284339,SRR5284337),(SRR5284355,(SRR5632514,SRR5284357))),(((SRR5632377,((SRR5632428,SRR5632436),(SRR5632344,(SRR5632345,(SRR5632413,(SRR5632411,SRR5632382)))))),(SRR5632617,((SRR8860622,SRR8860565),(((SRR5632393,SRR8860541),((SRR5632438,(SRR5632451,SRR5632353)),(SRR8860543,(SRR8860696,(SRR8860593,((SRR8860709,SRR8860727),(SRR5632545,SRR5632439))))))),((SRR5632449,SRR5632416),((SRR5632452,SRR5632401),(((SRR8860749,SRR5632448),(SRR5632457,SRR5632403)),((SRR5632424,(SRR5632536,SRR5632441)),(((SRR5632404,SRR5632443),(SRR5632537,(SRR5632619,SRR5632358))),(SRR5632597,(SRR5632616,(SRR5632355,((SRR8860635,SRR5284352),(SRR5632513,(SRR5632510,(SRR5632549,SRR5632516)))))))))))))))),(((SRR1915552,(SRR1915533,(SRR1915549,SRR1915534))),((SRR1915561,(SRR1915539,SRR1915525)),(SRR1915547,(SRR1915542,SRR1915528)))),((SRR5632394,SRR5632524),((SRR5632521,(SRR5632378,(SRR5284330,SRR5632566))),(((SRR5632626,((SRR8860647,SRR5632519),(SRR8860731,(SRR5632374,SRR8860507)))),((SRR5632384,SRR5632440),((((SRR5632589,SRR5632526),(SRR5632425,(SRR5284335,(SRR5632496,SRR5632373)))),((SRR5632406,SRR5632569),(SRR5632579,((SRR5632546,SRR5632462),((SRR5632383,SRR5632512),((SRR5632560,SRR5632502),(SRR5632564,(SRR5632563,(SRR5632380,SRR5632486))))))))),((SRR8860568,SRR5632379),((SRR5632505,SRR5632418),((SRR5632421,((SRR5632507,SRR5632552),(SRR5632491,(SRR5632465,SRR5632470)))),(((SRR8860595,(SRR5632361,(SRR5632493,SRR5632474))),(SRR5632397,(SRR8860551,(SRR5632478,(SRR8860613,SRR5632381))))),(SRR8860571,(SRR8860688,(((SRR8860691,SRR8860717),(SRR8860511,SRR8860558)),(SRR8860671,(SRR8860599,(SRR8860715,(SRR8860726,SRR8860553)))))))))))))),((SRR5632528,(SRR8860744,(SRR8860746,(SRR8860745,SRR5632522)))),((((SRR8860642,(SRR5632550,SRR5984304)),((SRR8860552,(SRR8860704,SRR8860515)),(SRR8860544,(SRR5632480,(SRR8860740,(SRR8860700,(SRR8860719,SRR8860694))))))),(SRR5984317,(SRR5984319,(SRR8860579,((SRR8860556,(SRR8860659,(SRR8860610,SRR8860607))),(SRR5984303,(SRR8860701,((SRR8860573,SRR8860624),(SRR8860612,(SRR5984318,SRR8860673)))))))))),(((SRR5984293,SRR5984311),(SRR5984306,((SRR5984310,SRR5984292),(SRR8860681,SRR5984314)))),((SRR8860517,SRR5984297),(SRR5984307,((SRR5984287,((SRR5984315,SRR5984288),(SRR5984280,((SRR5984285,SRR5984312),(SRR5984290,(SRR5984291,SRR5984294)))))),(((SRR5984300,SRR5984296),(SRR5984302,(SRR5984298,SRR5984316))),((SRR5984305,(SRR5984279,(SRR5984295,SRR5984289))),((SRR5984284,SRR8860621),(SRR5984281,SRR5984308)))))))))))))))))))));\n",
      "end;\n",
      "\n",
      "[mb block]\n",
      "begin mrbayes;\n",
      "  set autoclose=yes nowarn=yes;\n",
      "\n",
      "  lset nst=6 rates=gamma;\n",
      "\n",
      "  prset brlenspr=clock:uniform;\n",
      "  prset clockvarpr=igr;\n",
      "  prset igrvarpr=exp(10.0);\n",
      "  prset clockratepr=normal(0.01,0.005);\n",
      "  prset topologypr=fixed(fixedtree);\n",
      "\n",
      "  \n",
      "\n",
      "  mcmcp ngen=1000000 nrun=2 nchains=4;\n",
      "  mcmcp relburnin=yes burninfrac=0.25;\n",
      "  mcmcp samplefreq=1000;\n",
      "  mcmcp printfreq=10000 diagnfr=5000;\n",
      "  mcmcp filename=/moto/eaton/users/hnl2109/analysis-mrbayes/itest-2.nex;\n",
      "  mcmc;\n",
      "\n",
      "  sump filename=/moto/eaton/users/hnl2109/analysis-mrbayes/itest-2.nex;\n",
      "  sumt filename=/moto/eaton/users/hnl2109/analysis-mrbayes/itest-2.nex contype=allcompat;\n",
      "end;\n",
      "\n",
      "[log block]\n",
      "log stop filename=/moto/eaton/users/hnl2109/analysis-mrbayes/itest-2.nex.log append;\n",
      "\n"
     ]
    }
   ],
   "source": [
    "print(mb2.nexus_string)"
   ]
  },
  {
   "cell_type": "code",
   "execution_count": 88,
   "metadata": {
    "scrolled": true
   },
   "outputs": [
    {
     "ename": "IPyradError",
     "evalue": "\n\n                            MrBayes 3.2.7 x86_64\n\n                      (Bayesian Analysis of Phylogeny)\n\n              Distributed under the GNU General Public License\n\n\n               Type \"help\" or \"help <command>\" for information\n                     on the commands that are available.\n\n                   Type \"about\" for authorship and general\n                       information about the program.\n\n\n\n   Executing file \"/moto/eaton/users/hnl2109/analysis-mrbayes/itest-2.nex\"\n   UNIX line termination\n   Longest line length = 2836\n   Parsing file\n   Expecting NEXUS formatted file\n   Logging screen output to file \"/moto/eaton/users/hnl2109/analysis-mrbayes/itest-2.nex.log\"\n\n   Executing file \"/moto/eaton/users/hnl2109/analysis-window_extracter/pt_scaffold05.nex\"...\n\n   UNIX line termination\n   Longest line length = 114\n   Parsing file\n   Expecting NEXUS formatted file\n   Reading data block\n      Allocated taxon set\n      Allocated matrix\n      Defining new matrix with 217 taxa and 30836 characters\n      Data is Dna\n      Missing data coded as N\n      Gaps coded as -\n      Data matrix is interleaved\n      Taxon   1 -> reference\n      Taxon   2 -> SRR1915525\n      Taxon   3 -> SRR1915528\n      Taxon   4 -> SRR1915533\n      Taxon   5 -> SRR1915534\n      Taxon   6 -> SRR1915539\n      Taxon   7 -> SRR1915542\n      Taxon   8 -> SRR1915547\n      Taxon   9 -> SRR1915549\n      Taxon  10 -> SRR1915552\n      Taxon  11 -> SRR1915561\n      Taxon  12 -> SRR5284330\n      Taxon  13 -> SRR5284335\n      Taxon  14 -> SRR5284337\n      Taxon  15 -> SRR5284339\n      Taxon  16 -> SRR5284342\n      Taxon  17 -> SRR5284345\n      Taxon  18 -> SRR5284351\n      Taxon  19 -> SRR5284352\n      Taxon  20 -> SRR5284355\n      Taxon  21 -> SRR5284357\n      Taxon  22 -> SRR5284372\n      Taxon  23 -> SRR5632344\n      Taxon  24 -> SRR5632345\n      Taxon  25 -> SRR5632353\n      Taxon  26 -> SRR5632355\n      Taxon  27 -> SRR5632357\n      Taxon  28 -> SRR5632358\n      Taxon  29 -> SRR5632361\n      Taxon  30 -> SRR5632365\n      Taxon  31 -> SRR5632373\n      Taxon  32 -> SRR5632374\n      Taxon  33 -> SRR5632377\n      Taxon  34 -> SRR5632378\n      Taxon  35 -> SRR5632379\n      Taxon  36 -> SRR5632380\n      Taxon  37 -> SRR5632381\n      Taxon  38 -> SRR5632382\n      Taxon  39 -> SRR5632383\n      Taxon  40 -> SRR5632384\n      Taxon  41 -> SRR5632393\n      Taxon  42 -> SRR5632394\n      Taxon  43 -> SRR5632397\n      Taxon  44 -> SRR5632401\n      Taxon  45 -> SRR5632403\n      Taxon  46 -> SRR5632404\n      Taxon  47 -> SRR5632406\n      Taxon  48 -> SRR5632407\n      Taxon  49 -> SRR5632410\n      Taxon  50 -> SRR5632411\n      Taxon  51 -> SRR5632413\n      Taxon  52 -> SRR5632416\n      Taxon  53 -> SRR5632418\n      Taxon  54 -> SRR5632421\n      Taxon  55 -> SRR5632424\n      Taxon  56 -> SRR5632425\n      Taxon  57 -> SRR5632428\n      Taxon  58 -> SRR5632436\n      Taxon  59 -> SRR5632438\n      Taxon  60 -> SRR5632439\n      Taxon  61 -> SRR5632440\n      Taxon  62 -> SRR5632441\n      Taxon  63 -> SRR5632443\n      Taxon  64 -> SRR5632448\n      Taxon  65 -> SRR5632449\n      Taxon  66 -> SRR5632451\n      Taxon  67 -> SRR5632452\n      Taxon  68 -> SRR5632457\n      Taxon  69 -> SRR5632462\n      Taxon  70 -> SRR5632465\n      Taxon  71 -> SRR5632470\n      Taxon  72 -> SRR5632474\n      Taxon  73 -> SRR5632478\n      Taxon  74 -> SRR5632480\n      Taxon  75 -> SRR5632486\n      Taxon  76 -> SRR5632491\n      Taxon  77 -> SRR5632493\n      Taxon  78 -> SRR5632496\n      Taxon  79 -> SRR5632502\n      Taxon  80 -> SRR5632505\n      Taxon  81 -> SRR5632507\n      Taxon  82 -> SRR5632510\n      Taxon  83 -> SRR5632512\n      Taxon  84 -> SRR5632513\n      Taxon  85 -> SRR5632514\n      Taxon  86 -> SRR5632516\n      Taxon  87 -> SRR5632519\n      Taxon  88 -> SRR5632521\n      Taxon  89 -> SRR5632522\n      Taxon  90 -> SRR5632524\n      Taxon  91 -> SRR5632526\n      Taxon  92 -> SRR5632528\n      Taxon  93 -> SRR5632536\n      Taxon  94 -> SRR5632537\n      Taxon  95 -> SRR5632542\n      Taxon  96 -> SRR5632545\n      Taxon  97 -> SRR5632546\n      Taxon  98 -> SRR5632548\n      Taxon  99 -> SRR5632549\n      Taxon 100 -> SRR5632550\n      Taxon 101 -> SRR5632552\n      Taxon 102 -> SRR5632560\n      Taxon 103 -> SRR5632563\n      Taxon 104 -> SRR5632564\n      Taxon 105 -> SRR5632566\n      Taxon 106 -> SRR5632569\n      Taxon 107 -> SRR5632579\n      Taxon 108 -> SRR5632586\n      Taxon 109 -> SRR5632587\n      Taxon 110 -> SRR5632589\n      Taxon 111 -> SRR5632592\n      Taxon 112 -> SRR5632597\n      Taxon 113 -> SRR5632599\n      Taxon 114 -> SRR5632616\n      Taxon 115 -> SRR5632617\n      Taxon 116 -> SRR5632619\n      Taxon 117 -> SRR5632626\n      Taxon 118 -> SRR5984279\n      Taxon 119 -> SRR5984280\n      Taxon 120 -> SRR5984281\n      Taxon 121 -> SRR5984284\n      Taxon 122 -> SRR5984285\n      Taxon 123 -> SRR5984287\n      Taxon 124 -> SRR5984288\n      Taxon 125 -> SRR5984289\n      Taxon 126 -> SRR5984290\n      Taxon 127 -> SRR5984291\n      Taxon 128 -> SRR5984292\n      Taxon 129 -> SRR5984293\n      Taxon 130 -> SRR5984294\n      Taxon 131 -> SRR5984295\n      Taxon 132 -> SRR5984296\n      Taxon 133 -> SRR5984297\n      Taxon 134 -> SRR5984298\n      Taxon 135 -> SRR5984300\n      Taxon 136 -> SRR5984302\n      Taxon 137 -> SRR5984303\n      Taxon 138 -> SRR5984304\n      Taxon 139 -> SRR5984305\n      Taxon 140 -> SRR5984306\n      Taxon 141 -> SRR5984307\n      Taxon 142 -> SRR5984308\n      Taxon 143 -> SRR5984310\n      Taxon 144 -> SRR5984311\n      Taxon 145 -> SRR5984312\n      Taxon 146 -> SRR5984314\n      Taxon 147 -> SRR5984315\n      Taxon 148 -> SRR5984316\n      Taxon 149 -> SRR5984317\n      Taxon 150 -> SRR5984318\n      Taxon 151 -> SRR5984319\n      Taxon 152 -> SRR5984320\n      Taxon 153 -> SRR8860507\n      Taxon 154 -> SRR8860511\n      Taxon 155 -> SRR8860515\n      Taxon 156 -> SRR8860517\n      Taxon 157 -> SRR8860521\n      Taxon 158 -> SRR8860536\n      Taxon 159 -> SRR8860541\n      Taxon 160 -> SRR8860543\n      Taxon 161 -> SRR8860544\n      Taxon 162 -> SRR8860551\n      Taxon 163 -> SRR8860552\n      Taxon 164 -> SRR8860553\n      Taxon 165 -> SRR8860556\n      Taxon 166 -> SRR8860558\n      Taxon 167 -> SRR8860565\n      Taxon 168 -> SRR8860568\n      Taxon 169 -> SRR8860571\n      Taxon 170 -> SRR8860573\n      Taxon 171 -> SRR8860579\n      Taxon 172 -> SRR8860589\n      Taxon 173 -> SRR8860593\n      Taxon 174 -> SRR8860595\n      Taxon 175 -> SRR8860599\n      Taxon 176 -> SRR8860607\n      Taxon 177 -> SRR8860609\n      Taxon 178 -> SRR8860610\n      Taxon 179 -> SRR8860611\n      Taxon 180 -> SRR8860612\n      Taxon 181 -> SRR8860613\n      Taxon 182 -> SRR8860621\n      Taxon 183 -> SRR8860622\n      Taxon 184 -> SRR8860624\n      Taxon 185 -> SRR8860635\n      Taxon 186 -> SRR8860642\n      Taxon 187 -> SRR8860647\n      Taxon 188 -> SRR8860650\n      Taxon 189 -> SRR8860656\n      Taxon 190 -> SRR8860659\n      Taxon 191 -> SRR8860665\n      Taxon 192 -> SRR8860671\n      Taxon 193 -> SRR8860673\n      Taxon 194 -> SRR8860678\n      Taxon 195 -> SRR8860681\n      Taxon 196 -> SRR8860688\n      Taxon 197 -> SRR8860691\n      Taxon 198 -> SRR8860694\n      Taxon 199 -> SRR8860696\n      Taxon 200 -> SRR8860698\n      Taxon 201 -> SRR8860700\n      Taxon 202 -> SRR8860701\n      Taxon 203 -> SRR8860703\n      Taxon 204 -> SRR8860704\n      Taxon 205 -> SRR8860709\n      Taxon 206 -> SRR8860715\n      Taxon 207 -> SRR8860717\n      Taxon 208 -> SRR8860719\n      Taxon 209 -> SRR8860721\n      Taxon 210 -> SRR8860726\n      Taxon 211 -> SRR8860727\n      Taxon 212 -> SRR8860731\n      Taxon 213 -> SRR8860740\n      Taxon 214 -> SRR8860744\n      Taxon 215 -> SRR8860745\n      Taxon 216 -> SRR8860746\n      Taxon 217 -> SRR8860749\n      Successfully read matrix\n      Setting default partition (does not divide up characters)\n      Setting model defaults\n      Seed (for generating default start values) = 1596435677\n      Setting output file names to \"/moto/eaton/users/hnl2109/analysis-window_extracter/pt_scaffold05.nex.run<i>.<p|t>\"\n   Exiting data block\n   Reached end of file\n\n   Returning execution to calling file ...\n\n   Reading trees block\n      Successfully read tree 'fixedtree'\n   Exiting mrbayes block\n   Reading mrbayes block\n      Setting autoclose to yes\n      Setting nowarnings to yes\n      Setting Nst to 6\n      Setting Rates to Gamma\n      Successfully set likelihood model parameters\n      Setting Brlenspr to Clock:Uniform\n      Successfully set prior model parameters\n      Setting Clockvarpr to Igr\n      Successfully set prior model parameters\n      Setting Igrvarpr to Exponential(10.00)\n      Successfully set prior model parameters\n      Setting Clockratepr to Normal(0.010000,0.005000)\n      Successfully set prior model parameters\n      Setting Topologypr to Fixed\n      Successfully set prior model parameters\n      Could not fix topology because user tree 'fixedtree' differs in rootedness with the model tree.\n      The user tree fixedtree is not rooted, while expected model tree is rooted.\n      Check brlenspr is set correctly before fixing topology.\n      Error in command \"Prset\"\n      The error occurred when reading char. 36-36 on line 24\n         in the file '/moto/eaton/users/hnl2109/analysis-mrbayes/itest-2.nex'\n\n   Returning execution to command line ...\n\n   Error in command \"Execute\"\n   Will exit with signal 1 (error) because quitonerror is set to yes\n   If you want control to be returned to the command line on error,\n   use 'mb -i <filename>' (i is for interactive) or use 'set quitonerror=no'\n\n",
     "output_type": "error",
     "traceback": [
      "\u001b[0;31m---------------------------------------------------------------------------\u001b[0m",
      "\u001b[0;31mIPyradError\u001b[0m                               Traceback (most recent call last)",
      "\u001b[0;32m<ipython-input-88-502871bc213d>\u001b[0m in \u001b[0;36m<module>\u001b[0;34m\u001b[0m\n\u001b[0;32m----> 1\u001b[0;31m \u001b[0mmb2\u001b[0m\u001b[0;34m.\u001b[0m\u001b[0mrun\u001b[0m\u001b[0;34m(\u001b[0m\u001b[0mforce\u001b[0m \u001b[0;34m=\u001b[0m \u001b[0;32mTrue\u001b[0m\u001b[0;34m)\u001b[0m\u001b[0;34m\u001b[0m\u001b[0;34m\u001b[0m\u001b[0m\n\u001b[0m",
      "\u001b[0;32m~/ipyrad/ipyrad/analysis/mrbayes.py\u001b[0m in \u001b[0;36mrun\u001b[0;34m(self, ipyclient, quiet, force, block)\u001b[0m\n\u001b[1;32m    395\u001b[0m         \u001b[0;31m# submit it\u001b[0m\u001b[0;34m\u001b[0m\u001b[0;34m\u001b[0m\u001b[0;34m\u001b[0m\u001b[0m\n\u001b[1;32m    396\u001b[0m         \u001b[0;32mif\u001b[0m \u001b[0;32mnot\u001b[0m \u001b[0mipyclient\u001b[0m\u001b[0;34m:\u001b[0m\u001b[0;34m\u001b[0m\u001b[0;34m\u001b[0m\u001b[0m\n\u001b[0;32m--> 397\u001b[0;31m             \u001b[0mself\u001b[0m\u001b[0;34m.\u001b[0m\u001b[0mstdout\u001b[0m \u001b[0;34m=\u001b[0m \u001b[0m_call_mb\u001b[0m\u001b[0;34m(\u001b[0m\u001b[0;34m[\u001b[0m\u001b[0mself\u001b[0m\u001b[0;34m.\u001b[0m\u001b[0mbinary\u001b[0m\u001b[0;34m,\u001b[0m \u001b[0mself\u001b[0m\u001b[0;34m.\u001b[0m\u001b[0mnexus\u001b[0m\u001b[0;34m]\u001b[0m\u001b[0;34m)\u001b[0m\u001b[0;34m\u001b[0m\u001b[0;34m\u001b[0m\u001b[0m\n\u001b[0m\u001b[1;32m    398\u001b[0m \u001b[0;34m\u001b[0m\u001b[0m\n\u001b[1;32m    399\u001b[0m         \u001b[0;32melse\u001b[0m\u001b[0;34m:\u001b[0m\u001b[0;34m\u001b[0m\u001b[0;34m\u001b[0m\u001b[0m\n",
      "\u001b[0;32m~/ipyrad/ipyrad/analysis/mrbayes.py\u001b[0m in \u001b[0;36m_call_mb\u001b[0;34m(command_list)\u001b[0m\n\u001b[1;32m    530\u001b[0m     \u001b[0mcomm\u001b[0m \u001b[0;34m=\u001b[0m \u001b[0mproc\u001b[0m\u001b[0;34m.\u001b[0m\u001b[0mcommunicate\u001b[0m\u001b[0;34m(\u001b[0m\u001b[0;34m)\u001b[0m\u001b[0;34m\u001b[0m\u001b[0;34m\u001b[0m\u001b[0m\n\u001b[1;32m    531\u001b[0m     \u001b[0;32mif\u001b[0m \u001b[0mproc\u001b[0m\u001b[0;34m.\u001b[0m\u001b[0mreturncode\u001b[0m\u001b[0;34m:\u001b[0m\u001b[0;34m\u001b[0m\u001b[0;34m\u001b[0m\u001b[0m\n\u001b[0;32m--> 532\u001b[0;31m         \u001b[0;32mraise\u001b[0m \u001b[0mIPyradError\u001b[0m\u001b[0;34m(\u001b[0m\u001b[0mcomm\u001b[0m\u001b[0;34m[\u001b[0m\u001b[0;36m0\u001b[0m\u001b[0;34m]\u001b[0m\u001b[0;34m.\u001b[0m\u001b[0mdecode\u001b[0m\u001b[0;34m(\u001b[0m\u001b[0;34m)\u001b[0m\u001b[0;34m)\u001b[0m\u001b[0;34m\u001b[0m\u001b[0;34m\u001b[0m\u001b[0m\n\u001b[0m\u001b[1;32m    533\u001b[0m     \u001b[0;32mreturn\u001b[0m \u001b[0mcomm\u001b[0m\u001b[0;34m[\u001b[0m\u001b[0;36m0\u001b[0m\u001b[0;34m]\u001b[0m\u001b[0;34m.\u001b[0m\u001b[0mdecode\u001b[0m\u001b[0;34m(\u001b[0m\u001b[0;34m)\u001b[0m\u001b[0;34m\u001b[0m\u001b[0;34m\u001b[0m\u001b[0m\n",
      "\u001b[0;31mIPyradError\u001b[0m: \n\n                            MrBayes 3.2.7 x86_64\n\n                      (Bayesian Analysis of Phylogeny)\n\n              Distributed under the GNU General Public License\n\n\n               Type \"help\" or \"help <command>\" for information\n                     on the commands that are available.\n\n                   Type \"about\" for authorship and general\n                       information about the program.\n\n\n\n   Executing file \"/moto/eaton/users/hnl2109/analysis-mrbayes/itest-2.nex\"\n   UNIX line termination\n   Longest line length = 2836\n   Parsing file\n   Expecting NEXUS formatted file\n   Logging screen output to file \"/moto/eaton/users/hnl2109/analysis-mrbayes/itest-2.nex.log\"\n\n   Executing file \"/moto/eaton/users/hnl2109/analysis-window_extracter/pt_scaffold05.nex\"...\n\n   UNIX line termination\n   Longest line length = 114\n   Parsing file\n   Expecting NEXUS formatted file\n   Reading data block\n      Allocated taxon set\n      Allocated matrix\n      Defining new matrix with 217 taxa and 30836 characters\n      Data is Dna\n      Missing data coded as N\n      Gaps coded as -\n      Data matrix is interleaved\n      Taxon   1 -> reference\n      Taxon   2 -> SRR1915525\n      Taxon   3 -> SRR1915528\n      Taxon   4 -> SRR1915533\n      Taxon   5 -> SRR1915534\n      Taxon   6 -> SRR1915539\n      Taxon   7 -> SRR1915542\n      Taxon   8 -> SRR1915547\n      Taxon   9 -> SRR1915549\n      Taxon  10 -> SRR1915552\n      Taxon  11 -> SRR1915561\n      Taxon  12 -> SRR5284330\n      Taxon  13 -> SRR5284335\n      Taxon  14 -> SRR5284337\n      Taxon  15 -> SRR5284339\n      Taxon  16 -> SRR5284342\n      Taxon  17 -> SRR5284345\n      Taxon  18 -> SRR5284351\n      Taxon  19 -> SRR5284352\n      Taxon  20 -> SRR5284355\n      Taxon  21 -> SRR5284357\n      Taxon  22 -> SRR5284372\n      Taxon  23 -> SRR5632344\n      Taxon  24 -> SRR5632345\n      Taxon  25 -> SRR5632353\n      Taxon  26 -> SRR5632355\n      Taxon  27 -> SRR5632357\n      Taxon  28 -> SRR5632358\n      Taxon  29 -> SRR5632361\n      Taxon  30 -> SRR5632365\n      Taxon  31 -> SRR5632373\n      Taxon  32 -> SRR5632374\n      Taxon  33 -> SRR5632377\n      Taxon  34 -> SRR5632378\n      Taxon  35 -> SRR5632379\n      Taxon  36 -> SRR5632380\n      Taxon  37 -> SRR5632381\n      Taxon  38 -> SRR5632382\n      Taxon  39 -> SRR5632383\n      Taxon  40 -> SRR5632384\n      Taxon  41 -> SRR5632393\n      Taxon  42 -> SRR5632394\n      Taxon  43 -> SRR5632397\n      Taxon  44 -> SRR5632401\n      Taxon  45 -> SRR5632403\n      Taxon  46 -> SRR5632404\n      Taxon  47 -> SRR5632406\n      Taxon  48 -> SRR5632407\n      Taxon  49 -> SRR5632410\n      Taxon  50 -> SRR5632411\n      Taxon  51 -> SRR5632413\n      Taxon  52 -> SRR5632416\n      Taxon  53 -> SRR5632418\n      Taxon  54 -> SRR5632421\n      Taxon  55 -> SRR5632424\n      Taxon  56 -> SRR5632425\n      Taxon  57 -> SRR5632428\n      Taxon  58 -> SRR5632436\n      Taxon  59 -> SRR5632438\n      Taxon  60 -> SRR5632439\n      Taxon  61 -> SRR5632440\n      Taxon  62 -> SRR5632441\n      Taxon  63 -> SRR5632443\n      Taxon  64 -> SRR5632448\n      Taxon  65 -> SRR5632449\n      Taxon  66 -> SRR5632451\n      Taxon  67 -> SRR5632452\n      Taxon  68 -> SRR5632457\n      Taxon  69 -> SRR5632462\n      Taxon  70 -> SRR5632465\n      Taxon  71 -> SRR5632470\n      Taxon  72 -> SRR5632474\n      Taxon  73 -> SRR5632478\n      Taxon  74 -> SRR5632480\n      Taxon  75 -> SRR5632486\n      Taxon  76 -> SRR5632491\n      Taxon  77 -> SRR5632493\n      Taxon  78 -> SRR5632496\n      Taxon  79 -> SRR5632502\n      Taxon  80 -> SRR5632505\n      Taxon  81 -> SRR5632507\n      Taxon  82 -> SRR5632510\n      Taxon  83 -> SRR5632512\n      Taxon  84 -> SRR5632513\n      Taxon  85 -> SRR5632514\n      Taxon  86 -> SRR5632516\n      Taxon  87 -> SRR5632519\n      Taxon  88 -> SRR5632521\n      Taxon  89 -> SRR5632522\n      Taxon  90 -> SRR5632524\n      Taxon  91 -> SRR5632526\n      Taxon  92 -> SRR5632528\n      Taxon  93 -> SRR5632536\n      Taxon  94 -> SRR5632537\n      Taxon  95 -> SRR5632542\n      Taxon  96 -> SRR5632545\n      Taxon  97 -> SRR5632546\n      Taxon  98 -> SRR5632548\n      Taxon  99 -> SRR5632549\n      Taxon 100 -> SRR5632550\n      Taxon 101 -> SRR5632552\n      Taxon 102 -> SRR5632560\n      Taxon 103 -> SRR5632563\n      Taxon 104 -> SRR5632564\n      Taxon 105 -> SRR5632566\n      Taxon 106 -> SRR5632569\n      Taxon 107 -> SRR5632579\n      Taxon 108 -> SRR5632586\n      Taxon 109 -> SRR5632587\n      Taxon 110 -> SRR5632589\n      Taxon 111 -> SRR5632592\n      Taxon 112 -> SRR5632597\n      Taxon 113 -> SRR5632599\n      Taxon 114 -> SRR5632616\n      Taxon 115 -> SRR5632617\n      Taxon 116 -> SRR5632619\n      Taxon 117 -> SRR5632626\n      Taxon 118 -> SRR5984279\n      Taxon 119 -> SRR5984280\n      Taxon 120 -> SRR5984281\n      Taxon 121 -> SRR5984284\n      Taxon 122 -> SRR5984285\n      Taxon 123 -> SRR5984287\n      Taxon 124 -> SRR5984288\n      Taxon 125 -> SRR5984289\n      Taxon 126 -> SRR5984290\n      Taxon 127 -> SRR5984291\n      Taxon 128 -> SRR5984292\n      Taxon 129 -> SRR5984293\n      Taxon 130 -> SRR5984294\n      Taxon 131 -> SRR5984295\n      Taxon 132 -> SRR5984296\n      Taxon 133 -> SRR5984297\n      Taxon 134 -> SRR5984298\n      Taxon 135 -> SRR5984300\n      Taxon 136 -> SRR5984302\n      Taxon 137 -> SRR5984303\n      Taxon 138 -> SRR5984304\n      Taxon 139 -> SRR5984305\n      Taxon 140 -> SRR5984306\n      Taxon 141 -> SRR5984307\n      Taxon 142 -> SRR5984308\n      Taxon 143 -> SRR5984310\n      Taxon 144 -> SRR5984311\n      Taxon 145 -> SRR5984312\n      Taxon 146 -> SRR5984314\n      Taxon 147 -> SRR5984315\n      Taxon 148 -> SRR5984316\n      Taxon 149 -> SRR5984317\n      Taxon 150 -> SRR5984318\n      Taxon 151 -> SRR5984319\n      Taxon 152 -> SRR5984320\n      Taxon 153 -> SRR8860507\n      Taxon 154 -> SRR8860511\n      Taxon 155 -> SRR8860515\n      Taxon 156 -> SRR8860517\n      Taxon 157 -> SRR8860521\n      Taxon 158 -> SRR8860536\n      Taxon 159 -> SRR8860541\n      Taxon 160 -> SRR8860543\n      Taxon 161 -> SRR8860544\n      Taxon 162 -> SRR8860551\n      Taxon 163 -> SRR8860552\n      Taxon 164 -> SRR8860553\n      Taxon 165 -> SRR8860556\n      Taxon 166 -> SRR8860558\n      Taxon 167 -> SRR8860565\n      Taxon 168 -> SRR8860568\n      Taxon 169 -> SRR8860571\n      Taxon 170 -> SRR8860573\n      Taxon 171 -> SRR8860579\n      Taxon 172 -> SRR8860589\n      Taxon 173 -> SRR8860593\n      Taxon 174 -> SRR8860595\n      Taxon 175 -> SRR8860599\n      Taxon 176 -> SRR8860607\n      Taxon 177 -> SRR8860609\n      Taxon 178 -> SRR8860610\n      Taxon 179 -> SRR8860611\n      Taxon 180 -> SRR8860612\n      Taxon 181 -> SRR8860613\n      Taxon 182 -> SRR8860621\n      Taxon 183 -> SRR8860622\n      Taxon 184 -> SRR8860624\n      Taxon 185 -> SRR8860635\n      Taxon 186 -> SRR8860642\n      Taxon 187 -> SRR8860647\n      Taxon 188 -> SRR8860650\n      Taxon 189 -> SRR8860656\n      Taxon 190 -> SRR8860659\n      Taxon 191 -> SRR8860665\n      Taxon 192 -> SRR8860671\n      Taxon 193 -> SRR8860673\n      Taxon 194 -> SRR8860678\n      Taxon 195 -> SRR8860681\n      Taxon 196 -> SRR8860688\n      Taxon 197 -> SRR8860691\n      Taxon 198 -> SRR8860694\n      Taxon 199 -> SRR8860696\n      Taxon 200 -> SRR8860698\n      Taxon 201 -> SRR8860700\n      Taxon 202 -> SRR8860701\n      Taxon 203 -> SRR8860703\n      Taxon 204 -> SRR8860704\n      Taxon 205 -> SRR8860709\n      Taxon 206 -> SRR8860715\n      Taxon 207 -> SRR8860717\n      Taxon 208 -> SRR8860719\n      Taxon 209 -> SRR8860721\n      Taxon 210 -> SRR8860726\n      Taxon 211 -> SRR8860727\n      Taxon 212 -> SRR8860731\n      Taxon 213 -> SRR8860740\n      Taxon 214 -> SRR8860744\n      Taxon 215 -> SRR8860745\n      Taxon 216 -> SRR8860746\n      Taxon 217 -> SRR8860749\n      Successfully read matrix\n      Setting default partition (does not divide up characters)\n      Setting model defaults\n      Seed (for generating default start values) = 1596435677\n      Setting output file names to \"/moto/eaton/users/hnl2109/analysis-window_extracter/pt_scaffold05.nex.run<i>.<p|t>\"\n   Exiting data block\n   Reached end of file\n\n   Returning execution to calling file ...\n\n   Reading trees block\n      Successfully read tree 'fixedtree'\n   Exiting mrbayes block\n   Reading mrbayes block\n      Setting autoclose to yes\n      Setting nowarnings to yes\n      Setting Nst to 6\n      Setting Rates to Gamma\n      Successfully set likelihood model parameters\n      Setting Brlenspr to Clock:Uniform\n      Successfully set prior model parameters\n      Setting Clockvarpr to Igr\n      Successfully set prior model parameters\n      Setting Igrvarpr to Exponential(10.00)\n      Successfully set prior model parameters\n      Setting Clockratepr to Normal(0.010000,0.005000)\n      Successfully set prior model parameters\n      Setting Topologypr to Fixed\n      Successfully set prior model parameters\n      Could not fix topology because user tree 'fixedtree' differs in rootedness with the model tree.\n      The user tree fixedtree is not rooted, while expected model tree is rooted.\n      Check brlenspr is set correctly before fixing topology.\n      Error in command \"Prset\"\n      The error occurred when reading char. 36-36 on line 24\n         in the file '/moto/eaton/users/hnl2109/analysis-mrbayes/itest-2.nex'\n\n   Returning execution to command line ...\n\n   Error in command \"Execute\"\n   Will exit with signal 1 (error) because quitonerror is set to yes\n   If you want control to be returned to the command line on error,\n   use 'mb -i <filename>' (i is for interactive) or use 'set quitonerror=no'\n\n"
     ]
    }
   ],
   "source": [
    "mb2.run(force = True)"
   ]
  }
 ],
 "metadata": {
  "kernelspec": {
   "display_name": "Python 3",
   "language": "python",
   "name": "python3"
  },
  "language_info": {
   "codemirror_mode": {
    "name": "ipython",
    "version": 3
   },
   "file_extension": ".py",
   "mimetype": "text/x-python",
   "name": "python",
   "nbconvert_exporter": "python",
   "pygments_lexer": "ipython3",
   "version": "3.7.6"
  }
 },
 "nbformat": 4,
 "nbformat_minor": 4
}
