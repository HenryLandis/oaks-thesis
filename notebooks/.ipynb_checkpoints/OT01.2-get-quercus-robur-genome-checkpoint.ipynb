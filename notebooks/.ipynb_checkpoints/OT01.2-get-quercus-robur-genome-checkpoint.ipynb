{
 "cells": [
  {
   "cell_type": "code",
   "execution_count": 1,
   "metadata": {},
   "outputs": [],
   "source": [
    "import ipyrad.analysis as ipa\n",
    "import requests\n",
    "import gzip\n",
    "import os"
   ]
  },
  {
   "cell_type": "code",
   "execution_count": 4,
   "metadata": {},
   "outputs": [],
   "source": [
    "# Make a directory for storing raw data.\n",
    "num = os.path.realpath(os.path.join(\"/moto/eaton/users/hnl2109/\", \"genome-file\"))\n",
    "if not os.path.exists(num):\n",
    "    os.makedirs(num)"
   ]
  },
  {
   "cell_type": "code",
   "execution_count": 5,
   "metadata": {},
   "outputs": [
    {
     "data": {
      "text/plain": [
       "'/moto/eaton/users/hnl2109/genome-file/Qrob_PM1N.fa.gz'"
      ]
     },
     "execution_count": 5,
     "metadata": {},
     "output_type": "execute_result"
    }
   ],
   "source": [
    "# Most recent genome for Quercus robur.\n",
    "url = \"https://urgi.versailles.inra.fr/download/oak/Qrob_PM1N.fa.gz\"\n",
    "\n",
    "# Get and print location of save file.\n",
    "refpath = os.path.realpath(os.path.join(num, url.split(\"/\")[-1]))\n",
    "refpath"
   ]
  },
  {
   "cell_type": "code",
   "execution_count": 6,
   "metadata": {},
   "outputs": [],
   "source": [
    "# Only run if the reference doesn't already exist.\n",
    "if not os.path.exists(refpath):\n",
    "    \n",
    "    # Open a stream to url and write to file 1Mb at a time.\n",
    "    res = requests.get(url, stream=True)\n",
    "    with open(refpath, 'wb') as out:\n",
    "        for chunk in res.iter_content(chunk_size=1024*1024):\n",
    "            if chunk:\n",
    "                out.write(chunk)"
   ]
  },
  {
   "cell_type": "code",
   "execution_count": 7,
   "metadata": {},
   "outputs": [],
   "source": [
    "# Make a decompressed copy of the reference file.\n",
    "rname = refpath.split(\".gz\")[0]\n",
    "if not os.path.exists(rname):\n",
    "    with open(rname, 'w') as out:\n",
    "        out.write(gzip.open(refpath).read().decode())"
   ]
  }
 ],
 "metadata": {
  "kernelspec": {
   "display_name": "Python 3",
   "language": "python",
   "name": "python3"
  },
  "language_info": {
   "codemirror_mode": {
    "name": "ipython",
    "version": 3
   },
   "file_extension": ".py",
   "mimetype": "text/x-python",
   "name": "python",
   "nbconvert_exporter": "python",
   "pygments_lexer": "ipython3",
   "version": "3.7.6"
  }
 },
 "nbformat": 4,
 "nbformat_minor": 4
}
