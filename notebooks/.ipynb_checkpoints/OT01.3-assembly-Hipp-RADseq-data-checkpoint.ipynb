{
 "cells": [
  {
   "cell_type": "code",
   "execution_count": 1,
   "metadata": {},
   "outputs": [],
   "source": [
    "import ipyrad as ip"
   ]
  },
  {
   "cell_type": "code",
   "execution_count": 2,
   "metadata": {},
   "outputs": [
    {
     "data": {
      "text/plain": [
       "'0.9.50'"
      ]
     },
     "execution_count": 2,
     "metadata": {},
     "output_type": "execute_result"
    }
   ],
   "source": [
    "ip.__version__"
   ]
  },
  {
   "cell_type": "code",
   "execution_count": 4,
   "metadata": {
    "scrolled": true
   },
   "outputs": [
    {
     "name": "stdout",
     "output_type": "stream",
     "text": [
      "New Assembly: hipp1\n",
      "Parallel connection | t055: 24 cores\n",
      "[####################] 100% 0:03:54 | loading reads        | s1 |\n"
     ]
    }
   ],
   "source": [
    "# load the first RAD-seq library\n",
    "hipp1 = ip.Assembly(\"hipp1\")\n",
    "hipp1.set_params(\"sorted_fastq_path\", \"/moto/eaton/users/hnl2109/hipp-rad-files-2/*.fastq.gz\")\n",
    "hipp1.set_params(\"project_dir\", \"/moto/eaton/users/hnl2109/analysis-ipyrad\")\n",
    "hipp1.run(\"1\", force=True, auto=True)"
   ]
  },
  {
   "cell_type": "code",
   "execution_count": 5,
   "metadata": {},
   "outputs": [
    {
     "name": "stdout",
     "output_type": "stream",
     "text": [
      "Parallel connection | t055: 24 cores\n",
      "[####################] 100% 1:02:48 | processing reads     | s2 |\n"
     ]
    }
   ],
   "source": [
    "hipp1.params.phred_Qscore_offset = 43\n",
    "hipp1.params.filter_adapters = 3\n",
    "hipp1.run(\"2\", force=True, auto=True)"
   ]
  }
 ],
 "metadata": {
  "kernelspec": {
   "display_name": "Python 3",
   "language": "python",
   "name": "python3"
  },
  "language_info": {
   "codemirror_mode": {
    "name": "ipython",
    "version": 3
   },
   "file_extension": ".py",
   "mimetype": "text/x-python",
   "name": "python",
   "nbconvert_exporter": "python",
   "pygments_lexer": "ipython3",
   "version": "3.7.6"
  }
 },
 "nbformat": 4,
 "nbformat_minor": 4
}
