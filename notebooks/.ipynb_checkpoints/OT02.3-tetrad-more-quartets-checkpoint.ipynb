{
 "cells": [
  {
   "cell_type": "code",
   "execution_count": 1,
   "metadata": {},
   "outputs": [],
   "source": [
    "import ipyrad as ip\n",
    "import ipyrad.analysis as ipa\n",
    "import toytree\n",
    "import toyplot"
   ]
  },
  {
   "cell_type": "markdown",
   "metadata": {},
   "source": [
    "Run tetrad with more quartets, potentially other parameter changes."
   ]
  },
  {
   "cell_type": "code",
   "execution_count": 2,
   "metadata": {},
   "outputs": [
    {
     "name": "stdout",
     "output_type": "stream",
     "text": [
      "loading snps array [261 taxa x 2253184 snps]\n",
      "max unlinked SNPs per quartet [nloci]: 167724\n",
      "quartet sampler [random]: 2000000 / 188939205\n"
     ]
    }
   ],
   "source": [
    "data = \"/moto/eaton/users/hnl2109/analysis-ipyrad/robur_ref_basic_outfiles/robur_ref_basic.snps.hdf5\"\n",
    "\n",
    "tet01 = ipa.tetrad(\n",
    "    name=\"robur-ref-2e6-quartets\",\n",
    "    workdir=\"/moto/eaton/users/hnl2109/analysis-tetrad/\",\n",
    "    data=data,\n",
    "    nquartets=2e6,\n",
    "    nboots=16,\n",
    ")"
   ]
  },
  {
   "cell_type": "code",
   "execution_count": 5,
   "metadata": {
    "scrolled": false
   },
   "outputs": [
    {
     "name": "stdout",
     "output_type": "stream",
     "text": [
      "Parallel connection | t103: 24 cores\n",
      "initializing quartet sets database\n",
      "[####################] 100% 0:34:13 | full tree * | avg SNPs/qrt: 7606 \n",
      "[####################] 100% 0:34:45 | boot rep. 1 | avg SNPs/qrt: 7817 \n",
      "[####################] 100% 0:35:02 | boot rep. 2 | avg SNPs/qrt: 7920 \n",
      "[####################] 100% 0:34:48 | boot rep. 3 | avg SNPs/qrt: 7645 \n",
      "[####################] 100% 0:34:41 | boot rep. 4 | avg SNPs/qrt: 7432 \n",
      "[####################] 100% 0:34:55 | boot rep. 5 | avg SNPs/qrt: 7521 \n",
      "[####################] 100% 0:34:27 | boot rep. 6 | avg SNPs/qrt: 7674 \n",
      "[####################] 100% 0:34:08 | boot rep. 7 | avg SNPs/qrt: 7606 \n",
      "[####################] 100% 0:34:15 | boot rep. 8 | avg SNPs/qrt: 7697 \n",
      "[####################] 100% 0:34:34 | boot rep. 9 | avg SNPs/qrt: 7661 \n",
      "[####################] 100% 0:34:26 | boot rep. 11 | avg SNPs/qrt: 7665 \n",
      "[####################] 100% 0:34:57 | boot rep. 12 | avg SNPs/qrt: 7584 \n",
      "[####################] 100% 0:33:58 | boot rep. 13 | avg SNPs/qrt: 7597 \n",
      "[####################] 100% 0:34:59 | boot rep. 14 | avg SNPs/qrt: 7678 \n",
      "[####################] 100% 0:34:29 | boot rep. 15 | avg SNPs/qrt: 7460 \n",
      "[####################] 100% 0:34:33 | boot rep. 16 | avg SNPs/qrt: 7595 \n"
     ]
    }
   ],
   "source": [
    "tet01.run(force = True, auto = True)"
   ]
  }
 ],
 "metadata": {
  "kernelspec": {
   "display_name": "Python 3",
   "language": "python",
   "name": "python3"
  },
  "language_info": {
   "codemirror_mode": {
    "name": "ipython",
    "version": 3
   },
   "file_extension": ".py",
   "mimetype": "text/x-python",
   "name": "python",
   "nbconvert_exporter": "python",
   "pygments_lexer": "ipython3",
   "version": "3.7.6"
  }
 },
 "nbformat": 4,
 "nbformat_minor": 4
}
